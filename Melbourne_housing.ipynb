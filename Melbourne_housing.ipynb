{
 "cells": [
  {
   "cell_type": "code",
   "execution_count": 138,
   "id": "ac131d22",
   "metadata": {},
   "outputs": [],
   "source": [
    "# Libraries to help with reading and manipulating data\n",
    "import numpy as np\n",
    "import pandas as pd\n",
    "\n",
    "# Libraries to help with data visualization\n",
    "import matplotlib.pyplot as plt\n",
    "import seaborn as sns\n",
    "\n",
    "# to restrict the float value to 3 decimal places\n",
    "pd.set_option('display.float_format', lambda x: '%.3f' % x)"
   ]
  },
  {
   "cell_type": "code",
   "execution_count": 139,
   "id": "280673ca",
   "metadata": {},
   "outputs": [],
   "source": [
    "df = pd.read_csv(\"Melbourne_Housing.csv\")"
   ]
  },
  {
   "cell_type": "markdown",
   "id": "ce444163",
   "metadata": {},
   "source": [
    "**View the first and last 5 rows of the dataset**"
   ]
  },
  {
   "cell_type": "code",
   "execution_count": 140,
   "id": "28740398",
   "metadata": {},
   "outputs": [
    {
     "data": {
      "text/html": [
       "<div>\n",
       "<style scoped>\n",
       "    .dataframe tbody tr th:only-of-type {\n",
       "        vertical-align: middle;\n",
       "    }\n",
       "\n",
       "    .dataframe tbody tr th {\n",
       "        vertical-align: top;\n",
       "    }\n",
       "\n",
       "    .dataframe thead th {\n",
       "        text-align: right;\n",
       "    }\n",
       "</style>\n",
       "<table border=\"1\" class=\"dataframe\">\n",
       "  <thead>\n",
       "    <tr style=\"text-align: right;\">\n",
       "      <th></th>\n",
       "      <th>Suburb</th>\n",
       "      <th>Rooms</th>\n",
       "      <th>Type</th>\n",
       "      <th>SellerG</th>\n",
       "      <th>Date</th>\n",
       "      <th>Distance</th>\n",
       "      <th>Postcode</th>\n",
       "      <th>Bedroom</th>\n",
       "      <th>Bathroom</th>\n",
       "      <th>Car</th>\n",
       "      <th>Landsize</th>\n",
       "      <th>BuildingArea</th>\n",
       "      <th>YearBuilt</th>\n",
       "      <th>Regionname</th>\n",
       "      <th>Propertycount</th>\n",
       "      <th>Price</th>\n",
       "    </tr>\n",
       "  </thead>\n",
       "  <tbody>\n",
       "    <tr>\n",
       "      <th>0</th>\n",
       "      <td>Airport West</td>\n",
       "      <td>3</td>\n",
       "      <td>t</td>\n",
       "      <td>Nelson</td>\n",
       "      <td>03-09-2016</td>\n",
       "      <td>13.500</td>\n",
       "      <td>3042.000</td>\n",
       "      <td>3.000</td>\n",
       "      <td>2.000</td>\n",
       "      <td>1.000</td>\n",
       "      <td>303.000</td>\n",
       "      <td>225</td>\n",
       "      <td>2016.000</td>\n",
       "      <td>Western Metropolitan</td>\n",
       "      <td>3464</td>\n",
       "      <td>840000</td>\n",
       "    </tr>\n",
       "    <tr>\n",
       "      <th>1</th>\n",
       "      <td>Albert Park</td>\n",
       "      <td>2</td>\n",
       "      <td>h</td>\n",
       "      <td>hockingstuart</td>\n",
       "      <td>03-09-2016</td>\n",
       "      <td>3.300</td>\n",
       "      <td>3206.000</td>\n",
       "      <td>2.000</td>\n",
       "      <td>1.000</td>\n",
       "      <td>0.000</td>\n",
       "      <td>120.000</td>\n",
       "      <td>82</td>\n",
       "      <td>1900.000</td>\n",
       "      <td>Southern Metropolitan</td>\n",
       "      <td>3280</td>\n",
       "      <td>1275000</td>\n",
       "    </tr>\n",
       "    <tr>\n",
       "      <th>2</th>\n",
       "      <td>Albert Park</td>\n",
       "      <td>2</td>\n",
       "      <td>h</td>\n",
       "      <td>Thomson</td>\n",
       "      <td>03-09-2016</td>\n",
       "      <td>3.300</td>\n",
       "      <td>3206.000</td>\n",
       "      <td>2.000</td>\n",
       "      <td>1.000</td>\n",
       "      <td>0.000</td>\n",
       "      <td>159.000</td>\n",
       "      <td>inf</td>\n",
       "      <td>NaN</td>\n",
       "      <td>Southern Metropolitan</td>\n",
       "      <td>3280</td>\n",
       "      <td>1455000</td>\n",
       "    </tr>\n",
       "    <tr>\n",
       "      <th>3</th>\n",
       "      <td>Alphington</td>\n",
       "      <td>4</td>\n",
       "      <td>h</td>\n",
       "      <td>Brace</td>\n",
       "      <td>03-09-2016</td>\n",
       "      <td>6.400</td>\n",
       "      <td>3078.000</td>\n",
       "      <td>3.000</td>\n",
       "      <td>2.000</td>\n",
       "      <td>4.000</td>\n",
       "      <td>853.000</td>\n",
       "      <td>263</td>\n",
       "      <td>1930.000</td>\n",
       "      <td>Northern Metropolitan</td>\n",
       "      <td>2211</td>\n",
       "      <td>2000000</td>\n",
       "    </tr>\n",
       "    <tr>\n",
       "      <th>4</th>\n",
       "      <td>Alphington</td>\n",
       "      <td>3</td>\n",
       "      <td>h</td>\n",
       "      <td>Jellis</td>\n",
       "      <td>03-09-2016</td>\n",
       "      <td>6.400</td>\n",
       "      <td>3078.000</td>\n",
       "      <td>3.000</td>\n",
       "      <td>2.000</td>\n",
       "      <td>2.000</td>\n",
       "      <td>208.000</td>\n",
       "      <td>inf</td>\n",
       "      <td>2013.000</td>\n",
       "      <td>Northern Metropolitan</td>\n",
       "      <td>2211</td>\n",
       "      <td>1110000</td>\n",
       "    </tr>\n",
       "  </tbody>\n",
       "</table>\n",
       "</div>"
      ],
      "text/plain": [
       "         Suburb  Rooms Type        SellerG        Date  Distance  Postcode  \\\n",
       "0  Airport West      3    t         Nelson  03-09-2016    13.500  3042.000   \n",
       "1   Albert Park      2    h  hockingstuart  03-09-2016     3.300  3206.000   \n",
       "2   Albert Park      2    h        Thomson  03-09-2016     3.300  3206.000   \n",
       "3    Alphington      4    h          Brace  03-09-2016     6.400  3078.000   \n",
       "4    Alphington      3    h         Jellis  03-09-2016     6.400  3078.000   \n",
       "\n",
       "   Bedroom  Bathroom   Car  Landsize BuildingArea  YearBuilt  \\\n",
       "0    3.000     2.000 1.000   303.000          225   2016.000   \n",
       "1    2.000     1.000 0.000   120.000           82   1900.000   \n",
       "2    2.000     1.000 0.000   159.000          inf        NaN   \n",
       "3    3.000     2.000 4.000   853.000          263   1930.000   \n",
       "4    3.000     2.000 2.000   208.000          inf   2013.000   \n",
       "\n",
       "              Regionname  Propertycount    Price  \n",
       "0   Western Metropolitan           3464   840000  \n",
       "1  Southern Metropolitan           3280  1275000  \n",
       "2  Southern Metropolitan           3280  1455000  \n",
       "3  Northern Metropolitan           2211  2000000  \n",
       "4  Northern Metropolitan           2211  1110000  "
      ]
     },
     "execution_count": 140,
     "metadata": {},
     "output_type": "execute_result"
    }
   ],
   "source": [
    "df.head()"
   ]
  },
  {
   "cell_type": "code",
   "execution_count": 141,
   "id": "23f5e838",
   "metadata": {},
   "outputs": [
    {
     "data": {
      "text/html": [
       "<div>\n",
       "<style scoped>\n",
       "    .dataframe tbody tr th:only-of-type {\n",
       "        vertical-align: middle;\n",
       "    }\n",
       "\n",
       "    .dataframe tbody tr th {\n",
       "        vertical-align: top;\n",
       "    }\n",
       "\n",
       "    .dataframe thead th {\n",
       "        text-align: right;\n",
       "    }\n",
       "</style>\n",
       "<table border=\"1\" class=\"dataframe\">\n",
       "  <thead>\n",
       "    <tr style=\"text-align: right;\">\n",
       "      <th></th>\n",
       "      <th>Suburb</th>\n",
       "      <th>Rooms</th>\n",
       "      <th>Type</th>\n",
       "      <th>SellerG</th>\n",
       "      <th>Date</th>\n",
       "      <th>Distance</th>\n",
       "      <th>Postcode</th>\n",
       "      <th>Bedroom</th>\n",
       "      <th>Bathroom</th>\n",
       "      <th>Car</th>\n",
       "      <th>Landsize</th>\n",
       "      <th>BuildingArea</th>\n",
       "      <th>YearBuilt</th>\n",
       "      <th>Regionname</th>\n",
       "      <th>Propertycount</th>\n",
       "      <th>Price</th>\n",
       "    </tr>\n",
       "  </thead>\n",
       "  <tbody>\n",
       "    <tr>\n",
       "      <th>27109</th>\n",
       "      <td>Noble Park</td>\n",
       "      <td>3</td>\n",
       "      <td>h</td>\n",
       "      <td>C21</td>\n",
       "      <td>30-09-2017</td>\n",
       "      <td>22.700</td>\n",
       "      <td>3174.000</td>\n",
       "      <td>3.000</td>\n",
       "      <td>1.000</td>\n",
       "      <td>6.000</td>\n",
       "      <td>569.000</td>\n",
       "      <td>130</td>\n",
       "      <td>1959.000</td>\n",
       "      <td>South-Eastern Metropolitan</td>\n",
       "      <td>11806</td>\n",
       "      <td>627500</td>\n",
       "    </tr>\n",
       "    <tr>\n",
       "      <th>27110</th>\n",
       "      <td>Reservoir</td>\n",
       "      <td>3</td>\n",
       "      <td>u</td>\n",
       "      <td>RW</td>\n",
       "      <td>30-09-2017</td>\n",
       "      <td>12.000</td>\n",
       "      <td>3073.000</td>\n",
       "      <td>3.000</td>\n",
       "      <td>1.000</td>\n",
       "      <td>1.000</td>\n",
       "      <td>NaN</td>\n",
       "      <td>105</td>\n",
       "      <td>1990.000</td>\n",
       "      <td>Northern Metropolitan</td>\n",
       "      <td>21650</td>\n",
       "      <td>475000</td>\n",
       "    </tr>\n",
       "    <tr>\n",
       "      <th>27111</th>\n",
       "      <td>Roxburgh Park</td>\n",
       "      <td>4</td>\n",
       "      <td>h</td>\n",
       "      <td>Raine</td>\n",
       "      <td>30-09-2017</td>\n",
       "      <td>20.600</td>\n",
       "      <td>3064.000</td>\n",
       "      <td>4.000</td>\n",
       "      <td>2.000</td>\n",
       "      <td>2.000</td>\n",
       "      <td>NaN</td>\n",
       "      <td>225</td>\n",
       "      <td>1995.000</td>\n",
       "      <td>Northern Metropolitan</td>\n",
       "      <td>5833</td>\n",
       "      <td>591000</td>\n",
       "    </tr>\n",
       "    <tr>\n",
       "      <th>27112</th>\n",
       "      <td>Springvale South</td>\n",
       "      <td>3</td>\n",
       "      <td>h</td>\n",
       "      <td>Harcourts</td>\n",
       "      <td>30-09-2017</td>\n",
       "      <td>22.200</td>\n",
       "      <td>3172.000</td>\n",
       "      <td>3.000</td>\n",
       "      <td>2.000</td>\n",
       "      <td>1.000</td>\n",
       "      <td>544.000</td>\n",
       "      <td>NaN</td>\n",
       "      <td>NaN</td>\n",
       "      <td>South-Eastern Metropolitan</td>\n",
       "      <td>4054</td>\n",
       "      <td>780500</td>\n",
       "    </tr>\n",
       "    <tr>\n",
       "      <th>27113</th>\n",
       "      <td>Westmeadows</td>\n",
       "      <td>4</td>\n",
       "      <td>h</td>\n",
       "      <td>Barry</td>\n",
       "      <td>30-09-2017</td>\n",
       "      <td>16.500</td>\n",
       "      <td>3049.000</td>\n",
       "      <td>4.000</td>\n",
       "      <td>2.000</td>\n",
       "      <td>6.000</td>\n",
       "      <td>813.000</td>\n",
       "      <td>140</td>\n",
       "      <td>1960.000</td>\n",
       "      <td>Northern Metropolitan</td>\n",
       "      <td>2474</td>\n",
       "      <td>791000</td>\n",
       "    </tr>\n",
       "  </tbody>\n",
       "</table>\n",
       "</div>"
      ],
      "text/plain": [
       "                 Suburb  Rooms Type    SellerG        Date  Distance  \\\n",
       "27109        Noble Park      3    h        C21  30-09-2017    22.700   \n",
       "27110         Reservoir      3    u         RW  30-09-2017    12.000   \n",
       "27111     Roxburgh Park      4    h      Raine  30-09-2017    20.600   \n",
       "27112  Springvale South      3    h  Harcourts  30-09-2017    22.200   \n",
       "27113       Westmeadows      4    h      Barry  30-09-2017    16.500   \n",
       "\n",
       "       Postcode  Bedroom  Bathroom   Car  Landsize BuildingArea  YearBuilt  \\\n",
       "27109  3174.000    3.000     1.000 6.000   569.000          130   1959.000   \n",
       "27110  3073.000    3.000     1.000 1.000       NaN          105   1990.000   \n",
       "27111  3064.000    4.000     2.000 2.000       NaN          225   1995.000   \n",
       "27112  3172.000    3.000     2.000 1.000   544.000          NaN        NaN   \n",
       "27113  3049.000    4.000     2.000 6.000   813.000          140   1960.000   \n",
       "\n",
       "                       Regionname  Propertycount   Price  \n",
       "27109  South-Eastern Metropolitan          11806  627500  \n",
       "27110       Northern Metropolitan          21650  475000  \n",
       "27111       Northern Metropolitan           5833  591000  \n",
       "27112  South-Eastern Metropolitan           4054  780500  \n",
       "27113       Northern Metropolitan           2474  791000  "
      ]
     },
     "execution_count": 141,
     "metadata": {},
     "output_type": "execute_result"
    }
   ],
   "source": [
    "df.tail()"
   ]
  },
  {
   "cell_type": "markdown",
   "id": "9d916802",
   "metadata": {},
   "source": [
    "**Understand the shape of the dataset**"
   ]
  },
  {
   "cell_type": "code",
   "execution_count": 142,
   "id": "b8d16b13",
   "metadata": {},
   "outputs": [
    {
     "name": "stdout",
     "output_type": "stream",
     "text": [
      "There are 27114 rows and 16 columns\n"
     ]
    }
   ],
   "source": [
    "# checking shape of the data\n",
    "print(\"There are\", df.shape[0], \"rows and\", df.shape[1], \"columns\")"
   ]
  },
  {
   "cell_type": "markdown",
   "id": "a70810be",
   "metadata": {},
   "source": [
    "**Check the data types of the columns for the dataset**"
   ]
  },
  {
   "cell_type": "code",
   "execution_count": 143,
   "id": "7f56305f",
   "metadata": {},
   "outputs": [
    {
     "name": "stdout",
     "output_type": "stream",
     "text": [
      "<class 'pandas.core.frame.DataFrame'>\n",
      "RangeIndex: 27114 entries, 0 to 27113\n",
      "Data columns (total 16 columns):\n",
      " #   Column         Non-Null Count  Dtype  \n",
      "---  ------         --------------  -----  \n",
      " 0   Suburb         27114 non-null  object \n",
      " 1   Rooms          27114 non-null  int64  \n",
      " 2   Type           27114 non-null  object \n",
      " 3   SellerG        27114 non-null  object \n",
      " 4   Date           27114 non-null  object \n",
      " 5   Distance       27113 non-null  float64\n",
      " 6   Postcode       27113 non-null  float64\n",
      " 7   Bedroom        20678 non-null  float64\n",
      " 8   Bathroom       20672 non-null  float64\n",
      " 9   Car            20297 non-null  float64\n",
      " 10  Landsize       17873 non-null  float64\n",
      " 11  BuildingArea   10543 non-null  object \n",
      " 12  YearBuilt      11985 non-null  float64\n",
      " 13  Regionname     27114 non-null  object \n",
      " 14  Propertycount  27114 non-null  int64  \n",
      " 15  Price          27114 non-null  int64  \n",
      "dtypes: float64(7), int64(3), object(6)\n",
      "memory usage: 3.3+ MB\n"
     ]
    }
   ],
   "source": [
    "df.info()"
   ]
  },
  {
   "cell_type": "markdown",
   "id": "ca656866",
   "metadata": {},
   "source": [
    "* The dataset has 10 numeric columns and 6 columns stored as objects.\n",
    "\n",
    "* The date column is currently stored as an object, but it really should be converted into a datetime type.\n",
    "\n",
    "* The BuildingArea column is also stored as an object, but it should actually be a numeric column.\n",
    "\n",
    "* Several columns have missing values, which may need attention before analysis:\n",
    "\n",
    "        Distance → 1 missing value\n",
    "        Postcode → 1 missing value\n",
    "        Bedroom → 6,436 missing values\n",
    "        Bathroom → 6,442 missing values\n",
    "        Car → 6,817 missing values\n",
    "        Landsize → 9,241 missing values\n",
    "        BuildingArea → 16,571 missing values\n",
    "        YearBuilt → 15,129 missing values\n",
    "\n",
    "The other columns (Suburb, Rooms, Type, SellerG, Date, Regionname, Propertycount, Price) have no missing values."
   ]
  },
  {
   "cell_type": "code",
   "execution_count": 144,
   "id": "f1b0628c",
   "metadata": {},
   "outputs": [],
   "source": [
    "# Changing the date column to a datetime datatype.\n",
    "df['Date'] = pd.to_datetime(df['Date'], format=\"%d-%m-%Y\")"
   ]
  },
  {
   "cell_type": "code",
   "execution_count": 145,
   "id": "2935117f",
   "metadata": {},
   "outputs": [
    {
     "data": {
      "text/plain": [
       "array(['225', '82', 'inf', '263', '242', '251', '117', 'missing', '76',\n",
       "       '399', '118', '103', '180', '123', '218', '129', '167', '154',\n",
       "       '275', '121', nan, '125', '255', '75', '156', '240', '268', '108',\n",
       "       '69', '140', '214', '253', '189', '215', '96', '104', '100', '313',\n",
       "       '144', '93', '110', '70', '122', '51', '147', '113', '83', '56',\n",
       "       '137', '85', '64', '175', '3558', '170', '265', '353', '138', '19',\n",
       "       '116', '87', '74', '320', '300', '210', '120', '86', '97', '200',\n",
       "       '106', '14', '161', '128', '185', '146', '133', '115', '143',\n",
       "       '150', '195', '236', '276', '188', '179', '249', '141', '34', '73',\n",
       "       '107', '84', '81', '207', '50', '264', '312', '235', '221', '183',\n",
       "       '132', '160', '186', '78', '105', '145', '62', '220', '315', '181',\n",
       "       '61', '112', '420', '226', '266', '410', '449', '356', '477',\n",
       "       '250', '95', '190', '284', '247', '213', '209', '119', '111',\n",
       "       '130', '348', '166', '44', '176', '98', '159', '79', '71', '60',\n",
       "       '33', '89', '217', '127', '187', '109', '53', '201', '12', '63',\n",
       "       '223', '102', '254', '327', '16', '165', '65', '139', '134', '280',\n",
       "       '67', '272', '38', '153', '66', '152', '135', '374', '163', '124',\n",
       "       '233', '39', '151', '279', '136', '405', '199', '158', '126', '80',\n",
       "       '57', '36', '142', '77', '435', '92', '149', '114', '349', '178',\n",
       "       '594', '274', '40', '68', '164', '204', '94', '257', '323', '314',\n",
       "       '378', '55', '91', '309', '88', '58', '172', '211', '148', '49',\n",
       "       '52', '174', '191', '335', '808', '168', '203', '520', '212',\n",
       "       '222', '171', '228', '101', '267', '90', '196', '157', '99', '256',\n",
       "       '15', '155', '162', '72', '252', '330', '177', '341', '197', '340',\n",
       "       '182', '245', '270', '42', '229', '232', '131', '297', '237',\n",
       "       '194', '173', '46', '360', '205', '45', '365', '321', '37', '304',\n",
       "       '54', '305', '244', '43', '41', '22', '169', '59', '258', '230',\n",
       "       '287', '618', '792', '355', '202', '395', '351', '325', '248',\n",
       "       '224', '426', '286', '308', '198', '260', '291', '277', '281',\n",
       "       '216', '262', '364', '30', '192', '47', '184', '25', '558', '362',\n",
       "       '375', '347', '241', '475', '413', '400', '101.37', '219', '239',\n",
       "       '123.21', '140.7481', '86.5', '30.6', '225.5', '322', '409.54',\n",
       "       '26', '156.6', '227.6', '104.63', '193', '443', '167.13', '148.5',\n",
       "       '270.18', '53.3', '98.5', '157.9351', '328', '94.3', '21', '310',\n",
       "       '95.88', '261', '105.7', '72.9', '45.4', '221.3', '113.2',\n",
       "       '186.75', '540', '127.8', '231', '106.4', '311', '234', '332',\n",
       "       '206', '259', '246', '296', '269', '306', '380', '302', '48',\n",
       "       '278', '35', '208', '467', '283', '458', '196.8', '106.2', '32',\n",
       "       '424', '430', '243', '290', '511', '500', '531', '508', '333',\n",
       "       '72.3', '66.23', '101.51', '292', '112.9', '99.5', '77.5', '293',\n",
       "       '105.23', '352', '391', '121.8', '82.6', '136.49', '502', '680',\n",
       "       '157.9352', '126.8', '100.6', '44.4', '151.54', '20', '397', '495',\n",
       "       '331', '294', '334', '303', '318', '273', '584', '958', '288',\n",
       "       '342', '354', '350', '465', '337', '317', '298', '529', '697',\n",
       "       '289', '602', '6791', '534', '227', '429', '802', '373', '358',\n",
       "       '238', '316', '393', '180.9', '826.8367', '366', '307', '625',\n",
       "       '419', '94.5', '392', '28', '116.65', '11', '134.6', '282',\n",
       "       '183.84', '431', '126.7', '18', '295', '390', '447', '271', '416',\n",
       "       '370', '660', '463', '361', '496', '324', '173.45', '134.3',\n",
       "       '464.3', '76.77', '113.76', '107.4', '255.79', '186.36', '490',\n",
       "       '103.6', '63.7', '106.76', '39.5', '423', '319', '437', '285',\n",
       "       '453', '472', '418', '487', '31', '301', '116.4', '182.85',\n",
       "       '109.5', '129.7', '665', '398', '148.47', '553', '182.9', '184.75',\n",
       "       '193.74', '68.5', '336', '346', '719', '3112', '414', '372', '525',\n",
       "       '367', '1561', '454', '720', '329', '381', '677', '439', '857',\n",
       "       '23', '503', '432', '377', '512', '425', '406', '389', '521',\n",
       "       '6178', '654', '727', '417', '560', '168.01', '306.19', '515.78',\n",
       "       '196.1', '789', '131.27', '167.87', '183.97', '199.5', '29', '446',\n",
       "       '75.45', '165.5', '263.5', '585', '516', '345', '27', '444', '427',\n",
       "       '326', '518', '13', '411', '1022', '339', '461', '376', '513',\n",
       "       '836', '464', '386', '603', '613', '179.3', '142.6', '147.2',\n",
       "       '225.98', '113.81', '401', '737', '530', '82.3', '110.87', '450',\n",
       "       '673', '109.98', '122.25', '105.9', '101.7', '106.9', '93.82',\n",
       "       '132.6', '154.3', '178.74', '88.3', '80.7', '89.25', '181.6',\n",
       "       '104.4', '180.56', '123.5', '1143', '506', '575', '859', '653',\n",
       "       '999', '445', '438', '686', '649', '736', '371.6122', '199.73',\n",
       "       '118.54', '298.21', '169.5', '42.2', '135.5', '266.76', '272.4',\n",
       "       '177.8', '139.4', '700', '766', '538', '528', '650', '368', '544',\n",
       "       '557', '396', '638', '101.76', '363', '634', '195.0964', '470',\n",
       "       '130.52', '547', '111.04', '63.4', '92.5', '115.96', '121.84',\n",
       "       '122.86', '114.2', '266.53', '78.54', '85.35', '1041', '607',\n",
       "       '478', '407', '344', '338', '501', '448', '357', '408', '412',\n",
       "       '466', '739', '614', '421', '385', '68.11', '153.1', '85.2',\n",
       "       '93.84', '124.45', '210.68', '200.71', '81.79', '934', '129.92',\n",
       "       '43.7', '113.6', '66.32', '35.64', '61.6', '388.5', '672'],\n",
       "      dtype=object)"
      ]
     },
     "execution_count": 145,
     "metadata": {},
     "output_type": "execute_result"
    }
   ],
   "source": [
    "# let's see why BuildingArea column has object data type\n",
    "df['BuildingArea'].unique()"
   ]
  },
  {
   "cell_type": "code",
   "execution_count": 146,
   "id": "f9358a77",
   "metadata": {},
   "outputs": [
    {
     "data": {
      "text/plain": [
       "655"
      ]
     },
     "execution_count": 146,
     "metadata": {},
     "output_type": "execute_result"
    }
   ],
   "source": [
    "df['BuildingArea'].nunique()"
   ]
  },
  {
   "cell_type": "code",
   "execution_count": 147,
   "id": "94095fce",
   "metadata": {},
   "outputs": [
    {
     "name": "stdout",
     "output_type": "stream",
     "text": [
      "<class 'pandas.core.series.Series'>\n",
      "RangeIndex: 27114 entries, 0 to 27113\n",
      "Series name: BuildingArea\n",
      "Non-Null Count  Dtype \n",
      "--------------  ----- \n",
      "10543 non-null  object\n",
      "dtypes: object(1)\n",
      "memory usage: 212.0+ KB\n"
     ]
    }
   ],
   "source": [
    "df['BuildingArea'].info()"
   ]
  },
  {
   "cell_type": "markdown",
   "id": "a31329bf",
   "metadata": {},
   "source": [
    "* It will be difficult to analyze each data point to find the categorical values in this column. Instead, we’ll check how many non-numeric entries exist in this column and review what they are."
   ]
  },
  {
   "cell_type": "code",
   "execution_count": 148,
   "id": "36f9a0e0",
   "metadata": {},
   "outputs": [
    {
     "data": {
      "text/plain": [
       "BuildingArea\n",
       "<class 'float'>    16571\n",
       "<class 'str'>      10543\n",
       "Name: count, dtype: int64"
      ]
     },
     "execution_count": 148,
     "metadata": {},
     "output_type": "execute_result"
    }
   ],
   "source": [
    "df['BuildingArea'].apply(type).value_counts()"
   ]
  },
  {
   "cell_type": "markdown",
   "id": "3a4d4753",
   "metadata": {},
   "source": [
    "Here’s what the above means, step by step:\n",
    "\n",
    "    <class 'float'> 16571\n",
    "        There are 16,571 entries in the BuildingArea column that are of float type.\n",
    "        These are NaN values in this column, and are special floats representing missing data.\n",
    "\n",
    "    <class 'str'> 10543\n",
    "        There are 10,543 entries that are strings.\n",
    "        These entries may include numbers stored as text (e.g., \"105\") or invalid entries such as \"missing\" or \"inf\".\n",
    "        Numeric operations cannot be performed on them until they are converted to proper numeric types."
   ]
  },
  {
   "cell_type": "code",
   "execution_count": 149,
   "id": "87ec09d9",
   "metadata": {},
   "outputs": [
    {
     "name": "stdout",
     "output_type": "stream",
     "text": [
      "Non-Numeric values: 16580\n",
      "Numeric values: 10534\n"
     ]
    }
   ],
   "source": [
    "# Convert to numeric, flagging errors\n",
    "numeric_converted = pd.to_numeric(df['BuildingArea'], downcast='integer', errors=\"coerce\")\n",
    "\n",
    "# Count numeric vs non-numeric\n",
    "num_count = numeric_converted.notna().sum()\n",
    "non_num_count = numeric_converted.isna().sum()\n",
    "\n",
    "print(\"Non-Numeric values:\", non_num_count)\n",
    "print(\"Numeric values:\", num_count)"
   ]
  },
  {
   "cell_type": "markdown",
   "id": "6bc5563c",
   "metadata": {},
   "source": [
    "We can make the following deductions By comparing the results of the two operations above:\n",
    "\n",
    "* The column contains 10,543 string (<class 'str'>) entries, which is more than the 10,534 numeric values. Some of these strings represent non-numeric data wrapped in quotes (e.g., \"missing\"), so when using pd.to_numeric, pandas is unable to convert them and assigns NaN instead.\n",
    "* As a result, the expected float count (<class 'float'>: 16,571) from .apply(type) does not match the non-numeric count from pd.to_numeric (16,580).\n",
    "* This suggests that roughly 9 elements cannot be converted to numeric values, whereas the rest are strings representing numbers (e.g., wrapped in quotes) that pd.to_numeric can successfully convert.\n",
    "\n",
    "Hence:\n",
    "* Using pd.to_numeric(errors='coerce') gives a more accurate picture of which entries can be treated as truly numeric."
   ]
  },
  {
   "cell_type": "code",
   "execution_count": 150,
   "id": "b6353f94",
   "metadata": {},
   "outputs": [],
   "source": [
    "# replacing values with nan\n",
    "df['BuildingArea'] = df['BuildingArea'].replace(['missing', 'inf'], np.nan)\n",
    "\n",
    "# Change the dtype to float\n",
    "df['BuildingArea'] = df['BuildingArea'].astype(float)"
   ]
  },
  {
   "cell_type": "code",
   "execution_count": 151,
   "id": "513f5b78",
   "metadata": {},
   "outputs": [
    {
     "name": "stdout",
     "output_type": "stream",
     "text": [
      "Non-Numeric values: 16585\n",
      "Numeric values: 10529\n"
     ]
    }
   ],
   "source": [
    "# Check again the number of numeric elements\n",
    "numeric_converted = pd.to_numeric(df['BuildingArea'], downcast='integer', errors=\"coerce\")\n",
    "\n",
    "num_count = numeric_converted.notna().sum()\n",
    "non_num_count = numeric_converted.isna().sum()\n",
    "\n",
    "print(\"Non-Numeric values:\", non_num_count)\n",
    "print(\"Numeric values:\", num_count)"
   ]
  },
  {
   "cell_type": "code",
   "execution_count": 152,
   "id": "21f2632e",
   "metadata": {},
   "outputs": [
    {
     "name": "stdout",
     "output_type": "stream",
     "text": [
      "<class 'pandas.core.frame.DataFrame'>\n",
      "RangeIndex: 27114 entries, 0 to 27113\n",
      "Data columns (total 16 columns):\n",
      " #   Column         Non-Null Count  Dtype         \n",
      "---  ------         --------------  -----         \n",
      " 0   Suburb         27114 non-null  object        \n",
      " 1   Rooms          27114 non-null  int64         \n",
      " 2   Type           27114 non-null  object        \n",
      " 3   SellerG        27114 non-null  object        \n",
      " 4   Date           27114 non-null  datetime64[ns]\n",
      " 5   Distance       27113 non-null  float64       \n",
      " 6   Postcode       27113 non-null  float64       \n",
      " 7   Bedroom        20678 non-null  float64       \n",
      " 8   Bathroom       20672 non-null  float64       \n",
      " 9   Car            20297 non-null  float64       \n",
      " 10  Landsize       17873 non-null  float64       \n",
      " 11  BuildingArea   10529 non-null  float64       \n",
      " 12  YearBuilt      11985 non-null  float64       \n",
      " 13  Regionname     27114 non-null  object        \n",
      " 14  Propertycount  27114 non-null  int64         \n",
      " 15  Price          27114 non-null  int64         \n",
      "dtypes: datetime64[ns](1), float64(8), int64(3), object(4)\n",
      "memory usage: 3.3+ MB\n"
     ]
    }
   ],
   "source": [
    "# let's check the data type of columns again\n",
    "df.info()"
   ]
  },
  {
   "cell_type": "markdown",
   "id": "6a67c84a",
   "metadata": {},
   "source": [
    "* The number of non-null float elements in BuildingArea now matches the 10,529 numeric values from our pd.to_numeric conversion, so the data is consistent."
   ]
  },
  {
   "cell_type": "markdown",
   "id": "b2fc3e7b",
   "metadata": {},
   "source": [
    "* We see that the data types of Date and BuildingArea columns have been fixed.\n",
    "* There are 11 numerical columns, 4 object type columns, and 1 date time column in the data.\n",
    "* We observe that some columns have less entries that other columns (less than 27114 rows) which indicates the presence of missing values in the data."
   ]
  },
  {
   "cell_type": "markdown",
   "id": "03c00867",
   "metadata": {},
   "source": [
    "**Checking for missing values in the data**"
   ]
  },
  {
   "cell_type": "code",
   "execution_count": 153,
   "id": "8574799d",
   "metadata": {},
   "outputs": [
    {
     "data": {
      "text/plain": [
       "Suburb               0\n",
       "Rooms                0\n",
       "Type                 0\n",
       "SellerG              0\n",
       "Date                 0\n",
       "Distance             1\n",
       "Postcode             1\n",
       "Bedroom           6436\n",
       "Bathroom          6442\n",
       "Car               6817\n",
       "Landsize          9241\n",
       "BuildingArea     16585\n",
       "YearBuilt        15129\n",
       "Regionname           0\n",
       "Propertycount        0\n",
       "Price                0\n",
       "dtype: int64"
      ]
     },
     "execution_count": 153,
     "metadata": {},
     "output_type": "execute_result"
    }
   ],
   "source": [
    "df.isnull().sum()"
   ]
  },
  {
   "cell_type": "markdown",
   "id": "6533ef22",
   "metadata": {},
   "source": [
    "* Before filling missing values, we first study how data is distributed and how features relate to each other. This helps us choose better ways to impute missing values (like using mean, median, or mode), keeping the data accurate and meaningful."
   ]
  },
  {
   "cell_type": "markdown",
   "id": "b637db01",
   "metadata": {},
   "source": [
    "* Let's check for duplicates in the data"
   ]
  },
  {
   "cell_type": "code",
   "execution_count": 154,
   "id": "51fbc558",
   "metadata": {},
   "outputs": [
    {
     "name": "stdout",
     "output_type": "stream",
     "text": [
      "Duplicate group: [15787, 15788]\n",
      "Duplicate group: [20302, 20303]\n",
      "Duplicate group: [21416, 21417]\n",
      "Duplicate group: [8495, 8496]\n",
      "Duplicate group: [14869, 14870]\n",
      "Duplicate group: [7271, 7272]\n",
      "Duplicate group: [166, 167]\n",
      "Duplicate group: [12570, 12571]\n",
      "Duplicate group: [7398, 7399]\n",
      "Duplicate group: [9943, 9944]\n",
      "Duplicate group: [12005, 12006]\n"
     ]
    },
    {
     "name": "stderr",
     "output_type": "stream",
     "text": [
      "C:\\Users\\thech\\AppData\\Local\\Temp\\ipykernel_20768\\2047043037.py:7: DeprecationWarning: DataFrameGroupBy.apply operated on the grouping columns. This behavior is deprecated, and in a future version of pandas the grouping columns will be excluded from the operation. Either pass `include_groups=False` to exclude the groupings or explicitly select the grouping columns after groupby to silence this warning.\n",
      "  groups = df.groupby('_row_sign', group_keys=False).apply(lambda x: x.index.tolist())\n"
     ]
    }
   ],
   "source": [
    "# I want to display the indexes pof all rows that are dupicated\n",
    "\n",
    "# Create a helper column that represents the entire row\n",
    "df['_row_sign'] = df.fillna('<<NA>>').astype(str).agg('||'.join, axis=1)\n",
    "\n",
    "# Group by this \"row signature\"\n",
    "groups = df.groupby('_row_sign', group_keys=False).apply(lambda x: x.index.tolist())\n",
    "\n",
    "# Keep only groups with more than 1 row (true duplicates)\n",
    "duplicate_groups = groups[groups.apply(len) > 1]\n",
    "\n",
    "# Display them\n",
    "for row_sig, idxs in duplicate_groups.items():\n",
    "    print(f\"Duplicate group: {idxs}\")\n",
    "    # display(df.loc[idxs])  # shows the actual rows\n"
   ]
  },
  {
   "cell_type": "code",
   "execution_count": 155,
   "id": "3d449b85",
   "metadata": {},
   "outputs": [
    {
     "data": {
      "text/plain": [
       "np.int64(11)"
      ]
     },
     "execution_count": 155,
     "metadata": {},
     "output_type": "execute_result"
    }
   ],
   "source": [
    "df.duplicated().sum()"
   ]
  },
  {
   "cell_type": "markdown",
   "id": "ee4b2214",
   "metadata": {},
   "source": [
    "* There are 11 duplicate entries in the data. Let's remove them."
   ]
  },
  {
   "cell_type": "code",
   "execution_count": 156,
   "id": "5a6f30d3",
   "metadata": {},
   "outputs": [],
   "source": [
    "# dropping duplicate entries from the data\n",
    "df.drop_duplicates(inplace=True)\n",
    "\n",
    "# resetting the index of data frame since some rows will be removed\n",
    "df.reset_index(drop=True, inplace=True)"
   ]
  },
  {
   "cell_type": "code",
   "execution_count": 157,
   "id": "4f51417d",
   "metadata": {},
   "outputs": [
    {
     "data": {
      "text/plain": [
       "np.int64(0)"
      ]
     },
     "execution_count": 157,
     "metadata": {},
     "output_type": "execute_result"
    }
   ],
   "source": [
    "# Check again for duplicates\n",
    "df.duplicated().sum()"
   ]
  },
  {
   "cell_type": "markdown",
   "id": "d944dc15",
   "metadata": {},
   "source": [
    "**Let's check the statistical summary of the data.**"
   ]
  },
  {
   "cell_type": "code",
   "execution_count": 158,
   "id": "b738b9b2",
   "metadata": {},
   "outputs": [
    {
     "data": {
      "text/html": [
       "<div>\n",
       "<style scoped>\n",
       "    .dataframe tbody tr th:only-of-type {\n",
       "        vertical-align: middle;\n",
       "    }\n",
       "\n",
       "    .dataframe tbody tr th {\n",
       "        vertical-align: top;\n",
       "    }\n",
       "\n",
       "    .dataframe thead th {\n",
       "        text-align: right;\n",
       "    }\n",
       "</style>\n",
       "<table border=\"1\" class=\"dataframe\">\n",
       "  <thead>\n",
       "    <tr style=\"text-align: right;\">\n",
       "      <th></th>\n",
       "      <th>count</th>\n",
       "      <th>mean</th>\n",
       "      <th>min</th>\n",
       "      <th>25%</th>\n",
       "      <th>50%</th>\n",
       "      <th>75%</th>\n",
       "      <th>max</th>\n",
       "      <th>std</th>\n",
       "    </tr>\n",
       "  </thead>\n",
       "  <tbody>\n",
       "    <tr>\n",
       "      <th>Rooms</th>\n",
       "      <td>27103.000</td>\n",
       "      <td>2.992</td>\n",
       "      <td>1.000</td>\n",
       "      <td>2.000</td>\n",
       "      <td>3.000</td>\n",
       "      <td>4.000</td>\n",
       "      <td>16.000</td>\n",
       "      <td>0.955</td>\n",
       "    </tr>\n",
       "    <tr>\n",
       "      <th>Date</th>\n",
       "      <td>27103</td>\n",
       "      <td>2017-05-23 12:25:09.441759488</td>\n",
       "      <td>2016-01-28 00:00:00</td>\n",
       "      <td>2016-11-19 00:00:00</td>\n",
       "      <td>2017-07-08 00:00:00</td>\n",
       "      <td>2017-10-28 00:00:00</td>\n",
       "      <td>2018-03-17 00:00:00</td>\n",
       "      <td>NaN</td>\n",
       "    </tr>\n",
       "    <tr>\n",
       "      <th>Distance</th>\n",
       "      <td>27102.000</td>\n",
       "      <td>11.280</td>\n",
       "      <td>0.000</td>\n",
       "      <td>6.400</td>\n",
       "      <td>10.500</td>\n",
       "      <td>14.000</td>\n",
       "      <td>48.100</td>\n",
       "      <td>6.784</td>\n",
       "    </tr>\n",
       "    <tr>\n",
       "      <th>Postcode</th>\n",
       "      <td>27102.000</td>\n",
       "      <td>3113.787</td>\n",
       "      <td>3000.000</td>\n",
       "      <td>3046.000</td>\n",
       "      <td>3088.000</td>\n",
       "      <td>3153.000</td>\n",
       "      <td>3978.000</td>\n",
       "      <td>111.129</td>\n",
       "    </tr>\n",
       "    <tr>\n",
       "      <th>Bedroom</th>\n",
       "      <td>20678.000</td>\n",
       "      <td>3.046</td>\n",
       "      <td>0.000</td>\n",
       "      <td>2.000</td>\n",
       "      <td>3.000</td>\n",
       "      <td>4.000</td>\n",
       "      <td>20.000</td>\n",
       "      <td>0.955</td>\n",
       "    </tr>\n",
       "    <tr>\n",
       "      <th>Bathroom</th>\n",
       "      <td>20672.000</td>\n",
       "      <td>1.592</td>\n",
       "      <td>0.000</td>\n",
       "      <td>1.000</td>\n",
       "      <td>1.000</td>\n",
       "      <td>2.000</td>\n",
       "      <td>9.000</td>\n",
       "      <td>0.701</td>\n",
       "    </tr>\n",
       "    <tr>\n",
       "      <th>Car</th>\n",
       "      <td>20297.000</td>\n",
       "      <td>1.716</td>\n",
       "      <td>0.000</td>\n",
       "      <td>1.000</td>\n",
       "      <td>2.000</td>\n",
       "      <td>2.000</td>\n",
       "      <td>18.000</td>\n",
       "      <td>0.994</td>\n",
       "    </tr>\n",
       "    <tr>\n",
       "      <th>Landsize</th>\n",
       "      <td>17873.000</td>\n",
       "      <td>560.537</td>\n",
       "      <td>50.000</td>\n",
       "      <td>220.000</td>\n",
       "      <td>513.000</td>\n",
       "      <td>664.000</td>\n",
       "      <td>76000.000</td>\n",
       "      <td>1411.309</td>\n",
       "    </tr>\n",
       "    <tr>\n",
       "      <th>BuildingArea</th>\n",
       "      <td>10529.000</td>\n",
       "      <td>154.512</td>\n",
       "      <td>11.000</td>\n",
       "      <td>101.000</td>\n",
       "      <td>133.000</td>\n",
       "      <td>183.000</td>\n",
       "      <td>6791.000</td>\n",
       "      <td>130.584</td>\n",
       "    </tr>\n",
       "    <tr>\n",
       "      <th>YearBuilt</th>\n",
       "      <td>11985.000</td>\n",
       "      <td>1966.618</td>\n",
       "      <td>1850.000</td>\n",
       "      <td>1950.000</td>\n",
       "      <td>1970.000</td>\n",
       "      <td>2000.000</td>\n",
       "      <td>2019.000</td>\n",
       "      <td>36.042</td>\n",
       "    </tr>\n",
       "    <tr>\n",
       "      <th>Propertycount</th>\n",
       "      <td>27103.000</td>\n",
       "      <td>7564.741</td>\n",
       "      <td>83.000</td>\n",
       "      <td>4294.000</td>\n",
       "      <td>6567.000</td>\n",
       "      <td>10412.000</td>\n",
       "      <td>21650.000</td>\n",
       "      <td>4494.028</td>\n",
       "    </tr>\n",
       "    <tr>\n",
       "      <th>Price</th>\n",
       "      <td>27103.000</td>\n",
       "      <td>1050664.131</td>\n",
       "      <td>85000.000</td>\n",
       "      <td>635000.000</td>\n",
       "      <td>871000.000</td>\n",
       "      <td>1300000.000</td>\n",
       "      <td>11200000.000</td>\n",
       "      <td>641660.161</td>\n",
       "    </tr>\n",
       "  </tbody>\n",
       "</table>\n",
       "</div>"
      ],
      "text/plain": [
       "                  count                           mean                  min  \\\n",
       "Rooms         27103.000                          2.992                1.000   \n",
       "Date              27103  2017-05-23 12:25:09.441759488  2016-01-28 00:00:00   \n",
       "Distance      27102.000                         11.280                0.000   \n",
       "Postcode      27102.000                       3113.787             3000.000   \n",
       "Bedroom       20678.000                          3.046                0.000   \n",
       "Bathroom      20672.000                          1.592                0.000   \n",
       "Car           20297.000                          1.716                0.000   \n",
       "Landsize      17873.000                        560.537               50.000   \n",
       "BuildingArea  10529.000                        154.512               11.000   \n",
       "YearBuilt     11985.000                       1966.618             1850.000   \n",
       "Propertycount 27103.000                       7564.741               83.000   \n",
       "Price         27103.000                    1050664.131            85000.000   \n",
       "\n",
       "                               25%                  50%                  75%  \\\n",
       "Rooms                        2.000                3.000                4.000   \n",
       "Date           2016-11-19 00:00:00  2017-07-08 00:00:00  2017-10-28 00:00:00   \n",
       "Distance                     6.400               10.500               14.000   \n",
       "Postcode                  3046.000             3088.000             3153.000   \n",
       "Bedroom                      2.000                3.000                4.000   \n",
       "Bathroom                     1.000                1.000                2.000   \n",
       "Car                          1.000                2.000                2.000   \n",
       "Landsize                   220.000              513.000              664.000   \n",
       "BuildingArea               101.000              133.000              183.000   \n",
       "YearBuilt                 1950.000             1970.000             2000.000   \n",
       "Propertycount             4294.000             6567.000            10412.000   \n",
       "Price                   635000.000           871000.000          1300000.000   \n",
       "\n",
       "                               max        std  \n",
       "Rooms                       16.000      0.955  \n",
       "Date           2018-03-17 00:00:00        NaN  \n",
       "Distance                    48.100      6.784  \n",
       "Postcode                  3978.000    111.129  \n",
       "Bedroom                     20.000      0.955  \n",
       "Bathroom                     9.000      0.701  \n",
       "Car                         18.000      0.994  \n",
       "Landsize                 76000.000   1411.309  \n",
       "BuildingArea              6791.000    130.584  \n",
       "YearBuilt                 2019.000     36.042  \n",
       "Propertycount            21650.000   4494.028  \n",
       "Price                 11200000.000 641660.161  "
      ]
     },
     "execution_count": 158,
     "metadata": {},
     "output_type": "execute_result"
    }
   ],
   "source": [
    "df.describe().T"
   ]
  },
  {
   "cell_type": "markdown",
   "id": "bc583e00",
   "metadata": {},
   "source": [
    "* `Rooms:` On average there are 3 rooms in a property. 75% of the properties have less than or equal to 4 rooms. Maximum numer of rooms at 16 is unusually high, especially when you consider most houses cluster around the mean of around 3 rooms (std = 0.955), this highlights the possible presence of outliers or luxury properties and warrants a quick check.\n",
    "* `Distance`: On average the properties are located within 11.28 Kms of central business district, while the median is 10.5 Kms. There is a huge difference between the maximum value and the 75% percentile of the data which indicates there might be outliers present in this column.  \n",
    "* `Bedroom`, `Bathroom`, `Car`: The distribution of the number of bedrooms, bathrooms, and car parking spaces is fine. The maximum values of these columns might require a quick check.\n",
    "* `Landsize`: The std of 1411.309 indicates extremely high variability in land sizes. Most land sizes are around 500–600 sqm, but some are huge (up to 76,000 sqm). This is a very skewed distribution and its worth considering log-transform or handling extreme values (P.s Logarithm reduces the impact of large numbers, distribution becomes more symmetric, std decreases, mean better represents typical cases.)\n",
    "* `YearBuilt`: The latest property was built in 2019 while the earliest property was built in 1850.\n",
    "* `Propertycount`: On average a suburb has around 7564 properties. The column has a large standard deviation of 4494.02 units.\n",
    "* `Price`: On average the house prices are AUD 1050664. The median prices are AUD 871000. There is a huge difference between the maximum value and the 75% percentile of the data which indicates there might be outliers present in this column."
   ]
  },
  {
   "cell_type": "markdown",
   "id": "cbfd0fd3",
   "metadata": {},
   "source": [
    "**Let's check the count and percentage of categorical levels in each column**"
   ]
  },
  {
   "cell_type": "code",
   "execution_count": 159,
   "id": "a290a4c1",
   "metadata": {},
   "outputs": [
    {
     "name": "stdout",
     "output_type": "stream",
     "text": [
      "Suburb\n",
      "Reservoir         724\n",
      "Bentleigh East    493\n",
      "Richmond          437\n",
      "Preston           410\n",
      "Brunswick         383\n",
      "                 ... \n",
      "Darley              1\n",
      "Eynesbury           1\n",
      "croydon             1\n",
      "Monbulk             1\n",
      "viewbank            1\n",
      "Name: count, Length: 345, dtype: int64\n",
      "--------------------------------------------------\n",
      "Type\n",
      "h    18394\n",
      "u     5882\n",
      "t     2827\n",
      "Name: count, dtype: int64\n",
      "--------------------------------------------------\n",
      "SellerG\n",
      "Nelson           2733\n",
      "Jellis           2516\n",
      "Barry            2385\n",
      "hockingstuart    2096\n",
      "Ray              1574\n",
      "                 ... \n",
      "Alex                1\n",
      "Benchmark           1\n",
      "Gellibrand          1\n",
      "White               1\n",
      "Icon                1\n",
      "Name: count, Length: 347, dtype: int64\n",
      "--------------------------------------------------\n",
      "Regionname\n",
      "Southern Metropolitan         8480\n",
      "Northern Metropolitan         7809\n",
      "Western Metropolitan          5792\n",
      "Eastern Metropolitan          3264\n",
      "South-Eastern Metropolitan    1336\n",
      "Northern Victoria              165\n",
      "Eastern Victoria               163\n",
      "Western Victoria                94\n",
      "Name: count, dtype: int64\n",
      "--------------------------------------------------\n"
     ]
    }
   ],
   "source": [
    "# Making a list of all categorical variables\n",
    "cat_cols =  ['Suburb', 'Type', 'SellerG', 'Regionname']\n",
    "\n",
    "for columns in cat_cols:\n",
    "    print(df[columns].value_counts())\n",
    "    print(\"-\" * 50)"
   ]
  },
  {
   "cell_type": "code",
   "execution_count": 160,
   "id": "7b990974",
   "metadata": {},
   "outputs": [
    {
     "name": "stdout",
     "output_type": "stream",
     "text": [
      "Suburb\n",
      "Reservoir        0.027\n",
      "Bentleigh East   0.018\n",
      "Richmond         0.016\n",
      "Preston          0.015\n",
      "Brunswick        0.014\n",
      "                  ... \n",
      "Darley           0.000\n",
      "Eynesbury        0.000\n",
      "croydon          0.000\n",
      "Monbulk          0.000\n",
      "viewbank         0.000\n",
      "Name: proportion, Length: 345, dtype: float64\n",
      "--------------------------------------------------\n",
      "Type\n",
      "h   0.679\n",
      "u   0.217\n",
      "t   0.104\n",
      "Name: proportion, dtype: float64\n",
      "--------------------------------------------------\n",
      "SellerG\n",
      "Nelson          0.101\n",
      "Jellis          0.093\n",
      "Barry           0.088\n",
      "hockingstuart   0.077\n",
      "Ray             0.058\n",
      "                 ... \n",
      "Alex            0.000\n",
      "Benchmark       0.000\n",
      "Gellibrand      0.000\n",
      "White           0.000\n",
      "Icon            0.000\n",
      "Name: proportion, Length: 347, dtype: float64\n",
      "--------------------------------------------------\n",
      "Regionname\n",
      "Southern Metropolitan        0.313\n",
      "Northern Metropolitan        0.288\n",
      "Western Metropolitan         0.214\n",
      "Eastern Metropolitan         0.120\n",
      "South-Eastern Metropolitan   0.049\n",
      "Northern Victoria            0.006\n",
      "Eastern Victoria             0.006\n",
      "Western Victoria             0.003\n",
      "Name: proportion, dtype: float64\n",
      "--------------------------------------------------\n"
     ]
    }
   ],
   "source": [
    "# Printing the percentage of unique categorical levels in each column\n",
    "for column in cat_cols:\n",
    "    print(df[column].value_counts(normalize=True))\n",
    "    print(\"-\" * 50)"
   ]
  },
  {
   "cell_type": "markdown",
   "id": "052489a7",
   "metadata": {},
   "source": [
    "* `The Suburbs Feature:` It has as very high cardinality (345 unique suburbs). Highest number of properties by Suburbs are in Reservoir (724) followed by Bentleigh East (493) and Richmond (437). Many suburbs appear only once, showing a possibility of a long-tail distribution.\n",
    "* `The Type Feature:` Property Type is heavily imbalanced. With houses of type ‘h’ that is houses/cottages/villas dominating ~67% of listings, while units (‘u’) make up 21% properties and townhouses (‘t’) make up ~10%. We will need to pay attention to this imbalance and how it could affect modeling. \n",
    "* `The SellerG Feature:` Top 5 sellers of properties are  - Nelson, Jellis, Barry, hockingstuart, and Ray. And it apperas the feature might be very skewed with a few sellers accounting for thousands of listings, but many sellers appear very infrequently. Encoding strategies like grouping low-frequency sellers may be necessary to avoid sparse categorical representations.\n",
    "* `The Regionname Feature:` This shows uneven distribution, with metropolitan regions heavily represented compared to regional areas. 31% of the properties are in Southern Metropolitan followed by 28% in Northern Metropolitan, and 21% in Western Metropolitan. This shows that our analysis and models trained on this data will be biased towards metropolitan properties than Victoria regions as around 98% of the data points are from Metropolitan region."
   ]
  },
  {
   "cell_type": "markdown",
   "id": "0ce58b43",
   "metadata": {},
   "source": [
    "### Univariate Analysis"
   ]
  },
  {
   "cell_type": "markdown",
   "id": "330d4a1d",
   "metadata": {},
   "source": [
    "**Let's check the distribution for numerical columns.**"
   ]
  },
  {
   "cell_type": "code",
   "execution_count": 161,
   "id": "aa205bb7",
   "metadata": {},
   "outputs": [
    {
     "data": {
      "image/png": "[encoded data removed]",
      "text/plain": [
       "<Figure size 640x480 with 1 Axes>"
      ]
     },
     "metadata": {},
     "output_type": "display_data"
    },
    {
     "data": {
      "image/png": "[encoded data removed]",
      "text/plain": [
       "<Figure size 640x480 with 1 Axes>"
      ]
     },
     "metadata": {},
     "output_type": "display_data"
    }
   ],
   "source": [
    "sns.histplot(data=df,x='Distance',stat='density')\n",
    "plt.show()\n",
    "sns.boxplot(data=df,x='Distance')\n",
    "plt.show()"
   ]
  },
  {
   "cell_type": "code",
   "execution_count": 162,
   "id": "f14dbd94",
   "metadata": {},
   "outputs": [
    {
     "name": "stdout",
     "output_type": "stream",
     "text": [
      "<class 'pandas.core.frame.DataFrame'>\n",
      "RangeIndex: 27103 entries, 0 to 27102\n",
      "Data columns (total 17 columns):\n",
      " #   Column         Non-Null Count  Dtype         \n",
      "---  ------         --------------  -----         \n",
      " 0   Suburb         27103 non-null  object        \n",
      " 1   Rooms          27103 non-null  int64         \n",
      " 2   Type           27103 non-null  object        \n",
      " 3   SellerG        27103 non-null  object        \n",
      " 4   Date           27103 non-null  datetime64[ns]\n",
      " 5   Distance       27102 non-null  float64       \n",
      " 6   Postcode       27102 non-null  float64       \n",
      " 7   Bedroom        20678 non-null  float64       \n",
      " 8   Bathroom       20672 non-null  float64       \n",
      " 9   Car            20297 non-null  float64       \n",
      " 10  Landsize       17873 non-null  float64       \n",
      " 11  BuildingArea   10529 non-null  float64       \n",
      " 12  YearBuilt      11985 non-null  float64       \n",
      " 13  Regionname     27103 non-null  object        \n",
      " 14  Propertycount  27103 non-null  int64         \n",
      " 15  Price          27103 non-null  int64         \n",
      " 16  _row_sign      27103 non-null  object        \n",
      "dtypes: datetime64[ns](1), float64(8), int64(3), object(5)\n",
      "memory usage: 3.5+ MB\n"
     ]
    }
   ],
   "source": [
    "df.info()"
   ]
  },
  {
   "cell_type": "markdown",
   "id": "39675825",
   "metadata": {},
   "source": [
    "* The distribution is skewed towards right.\n",
    "* There are many outliers present in this column.\n",
    "* Values above 25 Kms are being represented as outliers in the boxplot, indicating there there are many properties that are atleast 25 Kms away from CBD."
   ]
  },
  {
   "cell_type": "code",
   "execution_count": 163,
   "id": "35d785ce",
   "metadata": {},
   "outputs": [
    {
     "data": {
      "image/png": "[encoded data removed]",
      "text/plain": [
       "<Figure size 640x480 with 1 Axes>"
      ]
     },
     "metadata": {},
     "output_type": "display_data"
    }
   ],
   "source": [
    "sns.scatterplot(data=df, x='Landsize', y='BuildingArea')\n",
    "\n",
    "# Add the diagonal reference line\n",
    "max_val = max(df['Landsize'].max(), df['BuildingArea'].max())\n",
    "plt.plot([0, max_val], [0, max_val], color='red', linestyle='--')\n",
    "\n",
    "plt.title('Relationship between Land Size and Building Area')\n",
    "plt.show()"
   ]
  },
  {
   "cell_type": "markdown",
   "id": "2b333e90",
   "metadata": {},
   "source": [
    "**Observations on LandSize vs BuildingArea**"
   ]
  },
  {
   "cell_type": "markdown",
   "id": "c0bab722",
   "metadata": {},
   "source": [
    "*  We had expected that most points fall below the diagonal line y = x (because BuildingArea < LandSize).\n",
    "\n",
    "*  But we are observing that there are points above the diagonal line, which means that there might be data errors."
   ]
  },
  {
   "cell_type": "code",
   "execution_count": 164,
   "id": "32a2f293",
   "metadata": {},
   "outputs": [
    {
     "name": "stdout",
     "output_type": "stream",
     "text": [
      "       BuildingArea  Landsize\n",
      "9            76.000    50.000\n",
      "16          103.000    50.000\n",
      "50           69.000    50.000\n",
      "61           96.000    50.000\n",
      "63          100.000    50.000\n",
      "...             ...       ...\n",
      "27029        72.000    50.000\n",
      "27035       112.000    50.000\n",
      "27055        81.000    50.000\n",
      "27060       114.000    50.000\n",
      "27071       125.000    50.000\n",
      "\n",
      "[1213 rows x 2 columns]\n"
     ]
    }
   ],
   "source": [
    "Test = df.loc[df['BuildingArea'] > df['Landsize'], ['BuildingArea', 'Landsize']]\n",
    "print(Test)"
   ]
  },
  {
   "cell_type": "markdown",
   "id": "2b80ca7b",
   "metadata": {},
   "source": [
    "*  There are about 1213 entries where the BuildingArea > LandSize. This needs to be flagged and investigated"
   ]
  },
  {
   "cell_type": "markdown",
   "id": "4015ff62",
   "metadata": {},
   "source": [
    "### Bivariate Analysis"
   ]
  },
  {
   "cell_type": "code",
   "execution_count": 165,
   "id": "b8b77c31",
   "metadata": {},
   "outputs": [
    {
     "data": {
      "image/png": "[encoded data removed]",
      "text/plain": [
       "<Figure size 1000x500 with 2 Axes>"
      ]
     },
     "metadata": {},
     "output_type": "display_data"
    }
   ],
   "source": [
    "plt.figure(figsize=(10,5))\n",
    "sns.heatmap(df.select_dtypes(include='number').corr(), annot=True, cmap='Spectral', vmin=-1, vmax=1)\n",
    "plt.show()"
   ]
  },
  {
   "cell_type": "markdown",
   "id": "a10624d0",
   "metadata": {},
   "source": [
    "### Missing value treatment"
   ]
  },
  {
   "cell_type": "markdown",
   "id": "e3d4a50f",
   "metadata": {},
   "source": [
    "**Lets see the count and the percentage of missing values in each column**"
   ]
  },
  {
   "cell_type": "code",
   "execution_count": 166,
   "id": "c9b0d4e2",
   "metadata": {},
   "outputs": [
    {
     "data": {
      "text/html": [
       "<div>\n",
       "<style scoped>\n",
       "    .dataframe tbody tr th:only-of-type {\n",
       "        vertical-align: middle;\n",
       "    }\n",
       "\n",
       "    .dataframe tbody tr th {\n",
       "        vertical-align: top;\n",
       "    }\n",
       "\n",
       "    .dataframe thead th {\n",
       "        text-align: right;\n",
       "    }\n",
       "</style>\n",
       "<table border=\"1\" class=\"dataframe\">\n",
       "  <thead>\n",
       "    <tr style=\"text-align: right;\">\n",
       "      <th></th>\n",
       "      <th>Count_missing</th>\n",
       "      <th>Percentage_missing</th>\n",
       "    </tr>\n",
       "  </thead>\n",
       "  <tbody>\n",
       "    <tr>\n",
       "      <th>Distance</th>\n",
       "      <td>1</td>\n",
       "      <td>0.004</td>\n",
       "    </tr>\n",
       "    <tr>\n",
       "      <th>Postcode</th>\n",
       "      <td>1</td>\n",
       "      <td>0.004</td>\n",
       "    </tr>\n",
       "    <tr>\n",
       "      <th>Bedroom</th>\n",
       "      <td>6425</td>\n",
       "      <td>23.706</td>\n",
       "    </tr>\n",
       "    <tr>\n",
       "      <th>Bathroom</th>\n",
       "      <td>6431</td>\n",
       "      <td>23.728</td>\n",
       "    </tr>\n",
       "    <tr>\n",
       "      <th>Car</th>\n",
       "      <td>6806</td>\n",
       "      <td>25.112</td>\n",
       "    </tr>\n",
       "    <tr>\n",
       "      <th>Landsize</th>\n",
       "      <td>9230</td>\n",
       "      <td>34.055</td>\n",
       "    </tr>\n",
       "    <tr>\n",
       "      <th>BuildingArea</th>\n",
       "      <td>16574</td>\n",
       "      <td>61.152</td>\n",
       "    </tr>\n",
       "    <tr>\n",
       "      <th>YearBuilt</th>\n",
       "      <td>15118</td>\n",
       "      <td>55.780</td>\n",
       "    </tr>\n",
       "  </tbody>\n",
       "</table>\n",
       "</div>"
      ],
      "text/plain": [
       "              Count_missing  Percentage_missing\n",
       "Distance                  1               0.004\n",
       "Postcode                  1               0.004\n",
       "Bedroom                6425              23.706\n",
       "Bathroom               6431              23.728\n",
       "Car                    6806              25.112\n",
       "Landsize               9230              34.055\n",
       "BuildingArea          16574              61.152\n",
       "YearBuilt             15118              55.780"
      ]
     },
     "execution_count": 166,
     "metadata": {},
     "output_type": "execute_result"
    }
   ],
   "source": [
    "pd.DataFrame({'Count_missing':df.isnull().sum()[df.isnull().sum()>0],'Percentage_missing':(df.isnull().sum()[df.isnull().sum()>0]/df.shape[0])*100})"
   ]
  },
  {
   "cell_type": "markdown",
   "id": "0126a2b2",
   "metadata": {},
   "source": [
    "* BuildingArea and YearBuilt columns have the highest percentage of missing values.\n",
    "* Distance and Postcode have the least number of missing values.\n",
    "* Bedroom, Bathroom, and Car have almost equal percentage of missing values.\n",
    "* AgeofProp and Total Space has equal percentage of missing values as YearBuilt and Bedroom, Bathroom, and Car because the information here were extracted using these columns.\n",
    "* Landsize has around 34% missing values."
   ]
  },
  {
   "cell_type": "markdown",
   "id": "fbb6a242",
   "metadata": {},
   "source": [
    "* Let’s take a look at the other columns when Distance is missing"
   ]
  },
  {
   "cell_type": "code",
   "execution_count": 167,
   "id": "bbb79001",
   "metadata": {},
   "outputs": [
    {
     "data": {
      "text/html": [
       "<div>\n",
       "<style scoped>\n",
       "    .dataframe tbody tr th:only-of-type {\n",
       "        vertical-align: middle;\n",
       "    }\n",
       "\n",
       "    .dataframe tbody tr th {\n",
       "        vertical-align: top;\n",
       "    }\n",
       "\n",
       "    .dataframe thead th {\n",
       "        text-align: right;\n",
       "    }\n",
       "</style>\n",
       "<table border=\"1\" class=\"dataframe\">\n",
       "  <thead>\n",
       "    <tr style=\"text-align: right;\">\n",
       "      <th></th>\n",
       "      <th>Suburb</th>\n",
       "      <th>Rooms</th>\n",
       "      <th>Type</th>\n",
       "      <th>SellerG</th>\n",
       "      <th>Date</th>\n",
       "      <th>Distance</th>\n",
       "      <th>Postcode</th>\n",
       "      <th>Bedroom</th>\n",
       "      <th>Bathroom</th>\n",
       "      <th>Car</th>\n",
       "      <th>Landsize</th>\n",
       "      <th>BuildingArea</th>\n",
       "      <th>YearBuilt</th>\n",
       "      <th>Regionname</th>\n",
       "      <th>Propertycount</th>\n",
       "      <th>Price</th>\n",
       "      <th>_row_sign</th>\n",
       "    </tr>\n",
       "  </thead>\n",
       "  <tbody>\n",
       "    <tr>\n",
       "      <th>9590</th>\n",
       "      <td>Fawkner Lot</td>\n",
       "      <td>3</td>\n",
       "      <td>h</td>\n",
       "      <td>Brad</td>\n",
       "      <td>2018-01-06</td>\n",
       "      <td>NaN</td>\n",
       "      <td>NaN</td>\n",
       "      <td>NaN</td>\n",
       "      <td>NaN</td>\n",
       "      <td>NaN</td>\n",
       "      <td>NaN</td>\n",
       "      <td>NaN</td>\n",
       "      <td>NaN</td>\n",
       "      <td>Northern Metropolitan</td>\n",
       "      <td>962</td>\n",
       "      <td>616000</td>\n",
       "      <td>Fawkner Lot||3||h||Brad||2018-01-06||&lt;&lt;NA&gt;&gt;||&lt;...</td>\n",
       "    </tr>\n",
       "  </tbody>\n",
       "</table>\n",
       "</div>"
      ],
      "text/plain": [
       "           Suburb  Rooms Type SellerG       Date  Distance  Postcode  Bedroom  \\\n",
       "9590  Fawkner Lot      3    h    Brad 2018-01-06       NaN       NaN      NaN   \n",
       "\n",
       "      Bathroom  Car  Landsize  BuildingArea  YearBuilt             Regionname  \\\n",
       "9590       NaN  NaN       NaN           NaN        NaN  Northern Metropolitan   \n",
       "\n",
       "      Propertycount   Price                                          _row_sign  \n",
       "9590            962  616000  Fawkner Lot||3||h||Brad||2018-01-06||<<NA>>||<...  "
      ]
     },
     "execution_count": 167,
     "metadata": {},
     "output_type": "execute_result"
    }
   ],
   "source": [
    "df.loc[df['Distance'].isnull()]"
   ]
  },
  {
   "cell_type": "markdown",
   "id": "6dd7c591",
   "metadata": {},
   "source": [
    "* When Distance is missing, many other key columns like Bedroom, Bathroom, Car, Landsize, BuildingArea, YearBuilt, and _row_sign are also missing. Only a few fields like Postcode, Regionname, and Propertycount remain populated.\n",
    "* This suggests a common issue in data collection, where missing values are not random but follow a pattern. \n",
    "* Let's see if we can find more information using the name of the Suburb. "
   ]
  },
  {
   "cell_type": "code",
   "execution_count": 168,
   "id": "2217aa5c",
   "metadata": {},
   "outputs": [
    {
     "data": {
      "text/html": [
       "<div>\n",
       "<style scoped>\n",
       "    .dataframe tbody tr th:only-of-type {\n",
       "        vertical-align: middle;\n",
       "    }\n",
       "\n",
       "    .dataframe tbody tr th {\n",
       "        vertical-align: top;\n",
       "    }\n",
       "\n",
       "    .dataframe thead th {\n",
       "        text-align: right;\n",
       "    }\n",
       "</style>\n",
       "<table border=\"1\" class=\"dataframe\">\n",
       "  <thead>\n",
       "    <tr style=\"text-align: right;\">\n",
       "      <th></th>\n",
       "      <th>Suburb</th>\n",
       "      <th>Rooms</th>\n",
       "      <th>Type</th>\n",
       "      <th>SellerG</th>\n",
       "      <th>Date</th>\n",
       "      <th>Distance</th>\n",
       "      <th>Postcode</th>\n",
       "      <th>Bedroom</th>\n",
       "      <th>Bathroom</th>\n",
       "      <th>Car</th>\n",
       "      <th>Landsize</th>\n",
       "      <th>BuildingArea</th>\n",
       "      <th>YearBuilt</th>\n",
       "      <th>Regionname</th>\n",
       "      <th>Propertycount</th>\n",
       "      <th>Price</th>\n",
       "      <th>_row_sign</th>\n",
       "    </tr>\n",
       "  </thead>\n",
       "  <tbody>\n",
       "    <tr>\n",
       "      <th>9590</th>\n",
       "      <td>Fawkner Lot</td>\n",
       "      <td>3</td>\n",
       "      <td>h</td>\n",
       "      <td>Brad</td>\n",
       "      <td>2018-01-06</td>\n",
       "      <td>NaN</td>\n",
       "      <td>NaN</td>\n",
       "      <td>NaN</td>\n",
       "      <td>NaN</td>\n",
       "      <td>NaN</td>\n",
       "      <td>NaN</td>\n",
       "      <td>NaN</td>\n",
       "      <td>NaN</td>\n",
       "      <td>Northern Metropolitan</td>\n",
       "      <td>962</td>\n",
       "      <td>616000</td>\n",
       "      <td>Fawkner Lot||3||h||Brad||2018-01-06||&lt;&lt;NA&gt;&gt;||&lt;...</td>\n",
       "    </tr>\n",
       "  </tbody>\n",
       "</table>\n",
       "</div>"
      ],
      "text/plain": [
       "           Suburb  Rooms Type SellerG       Date  Distance  Postcode  Bedroom  \\\n",
       "9590  Fawkner Lot      3    h    Brad 2018-01-06       NaN       NaN      NaN   \n",
       "\n",
       "      Bathroom  Car  Landsize  BuildingArea  YearBuilt             Regionname  \\\n",
       "9590       NaN  NaN       NaN           NaN        NaN  Northern Metropolitan   \n",
       "\n",
       "      Propertycount   Price                                          _row_sign  \n",
       "9590            962  616000  Fawkner Lot||3||h||Brad||2018-01-06||<<NA>>||<...  "
      ]
     },
     "execution_count": 168,
     "metadata": {},
     "output_type": "execute_result"
    }
   ],
   "source": [
    "df.loc[df['Suburb'] == 'Fawkner Lot']"
   ]
  },
  {
   "cell_type": "markdown",
   "id": "b583dadd",
   "metadata": {},
   "source": [
    "* We see that there is only one data entry for the Fawkner Lot suburb and in this case it is possible that data for this suburb was not collected. This shows that data is not missing randomly rather has pattern in missingness.\n",
    "* Imputing the Distance as well other information will not be a suitable approach as the imputed values will not be reliable. Given this, we can safely drop this particular entry."
   ]
  },
  {
   "cell_type": "code",
   "execution_count": 169,
   "id": "681815d7",
   "metadata": {},
   "outputs": [],
   "source": [
    "# Drop rows where Distance is null\n",
    "df.drop(df[df['Distance'].isnull()].index, axis=0, inplace=True)\n",
    "\n",
    "# Reset the index\n",
    "df.reset_index(drop=True, inplace=True)"
   ]
  },
  {
   "cell_type": "code",
   "execution_count": 170,
   "id": "f4c52aad",
   "metadata": {},
   "outputs": [
    {
     "data": {
      "text/html": [
       "<div>\n",
       "<style scoped>\n",
       "    .dataframe tbody tr th:only-of-type {\n",
       "        vertical-align: middle;\n",
       "    }\n",
       "\n",
       "    .dataframe tbody tr th {\n",
       "        vertical-align: top;\n",
       "    }\n",
       "\n",
       "    .dataframe thead th {\n",
       "        text-align: right;\n",
       "    }\n",
       "</style>\n",
       "<table border=\"1\" class=\"dataframe\">\n",
       "  <thead>\n",
       "    <tr style=\"text-align: right;\">\n",
       "      <th></th>\n",
       "      <th>Count_missing</th>\n",
       "      <th>Percentage_missing</th>\n",
       "    </tr>\n",
       "  </thead>\n",
       "  <tbody>\n",
       "    <tr>\n",
       "      <th>Bedroom</th>\n",
       "      <td>6424</td>\n",
       "      <td>23.703</td>\n",
       "    </tr>\n",
       "    <tr>\n",
       "      <th>Bathroom</th>\n",
       "      <td>6430</td>\n",
       "      <td>23.725</td>\n",
       "    </tr>\n",
       "    <tr>\n",
       "      <th>Car</th>\n",
       "      <td>6805</td>\n",
       "      <td>25.109</td>\n",
       "    </tr>\n",
       "    <tr>\n",
       "      <th>Landsize</th>\n",
       "      <td>9229</td>\n",
       "      <td>34.053</td>\n",
       "    </tr>\n",
       "    <tr>\n",
       "      <th>BuildingArea</th>\n",
       "      <td>16573</td>\n",
       "      <td>61.150</td>\n",
       "    </tr>\n",
       "    <tr>\n",
       "      <th>YearBuilt</th>\n",
       "      <td>15117</td>\n",
       "      <td>55.778</td>\n",
       "    </tr>\n",
       "  </tbody>\n",
       "</table>\n",
       "</div>"
      ],
      "text/plain": [
       "              Count_missing  Percentage_missing\n",
       "Bedroom                6424              23.703\n",
       "Bathroom               6430              23.725\n",
       "Car                    6805              25.109\n",
       "Landsize               9229              34.053\n",
       "BuildingArea          16573              61.150\n",
       "YearBuilt             15117              55.778"
      ]
     },
     "execution_count": 170,
     "metadata": {},
     "output_type": "execute_result"
    }
   ],
   "source": [
    "# Lets check again for the count and the percentage of missing values in each column\n",
    "pd.DataFrame({'Count_missing':df.isnull().sum()[df.isnull().sum()>0],'Percentage_missing':(df.isnull().sum()[df.isnull().sum()>0]/df.shape[0])*100})"
   ]
  },
  {
   "cell_type": "code",
   "execution_count": 171,
   "id": "15bcf3fe",
   "metadata": {},
   "outputs": [
    {
     "data": {
      "text/html": [
       "<div>\n",
       "<style scoped>\n",
       "    .dataframe tbody tr th:only-of-type {\n",
       "        vertical-align: middle;\n",
       "    }\n",
       "\n",
       "    .dataframe tbody tr th {\n",
       "        vertical-align: top;\n",
       "    }\n",
       "\n",
       "    .dataframe thead th {\n",
       "        text-align: right;\n",
       "    }\n",
       "</style>\n",
       "<table border=\"1\" class=\"dataframe\">\n",
       "  <thead>\n",
       "    <tr style=\"text-align: right;\">\n",
       "      <th></th>\n",
       "      <th>Suburb</th>\n",
       "      <th>Rooms</th>\n",
       "      <th>Type</th>\n",
       "      <th>SellerG</th>\n",
       "      <th>Date</th>\n",
       "      <th>Distance</th>\n",
       "      <th>Postcode</th>\n",
       "      <th>Bedroom</th>\n",
       "      <th>Bathroom</th>\n",
       "      <th>Car</th>\n",
       "      <th>Landsize</th>\n",
       "      <th>BuildingArea</th>\n",
       "      <th>YearBuilt</th>\n",
       "      <th>Regionname</th>\n",
       "      <th>Propertycount</th>\n",
       "      <th>Price</th>\n",
       "      <th>_row_sign</th>\n",
       "    </tr>\n",
       "  </thead>\n",
       "  <tbody>\n",
       "    <tr>\n",
       "      <th>8</th>\n",
       "      <td>Altona North</td>\n",
       "      <td>4</td>\n",
       "      <td>h</td>\n",
       "      <td>hockingstuart</td>\n",
       "      <td>2016-09-03</td>\n",
       "      <td>11.100</td>\n",
       "      <td>3025.000</td>\n",
       "      <td>NaN</td>\n",
       "      <td>NaN</td>\n",
       "      <td>NaN</td>\n",
       "      <td>NaN</td>\n",
       "      <td>NaN</td>\n",
       "      <td>NaN</td>\n",
       "      <td>Western Metropolitan</td>\n",
       "      <td>5132</td>\n",
       "      <td>857500</td>\n",
       "      <td>Altona North||4||h||hockingstuart||2016-09-03|...</td>\n",
       "    </tr>\n",
       "    <tr>\n",
       "      <th>12</th>\n",
       "      <td>Ashburton</td>\n",
       "      <td>2</td>\n",
       "      <td>h</td>\n",
       "      <td>Marshall</td>\n",
       "      <td>2016-09-03</td>\n",
       "      <td>11.000</td>\n",
       "      <td>3147.000</td>\n",
       "      <td>NaN</td>\n",
       "      <td>NaN</td>\n",
       "      <td>NaN</td>\n",
       "      <td>NaN</td>\n",
       "      <td>NaN</td>\n",
       "      <td>NaN</td>\n",
       "      <td>Southern Metropolitan</td>\n",
       "      <td>3052</td>\n",
       "      <td>1820000</td>\n",
       "      <td>Ashburton||2||h||Marshall||2016-09-03||11.0||3...</td>\n",
       "    </tr>\n",
       "    <tr>\n",
       "      <th>14</th>\n",
       "      <td>Avondale Heights</td>\n",
       "      <td>4</td>\n",
       "      <td>h</td>\n",
       "      <td>Jellis</td>\n",
       "      <td>2016-09-03</td>\n",
       "      <td>10.500</td>\n",
       "      <td>3034.000</td>\n",
       "      <td>NaN</td>\n",
       "      <td>NaN</td>\n",
       "      <td>NaN</td>\n",
       "      <td>NaN</td>\n",
       "      <td>NaN</td>\n",
       "      <td>NaN</td>\n",
       "      <td>Western Metropolitan</td>\n",
       "      <td>4502</td>\n",
       "      <td>1310000</td>\n",
       "      <td>Avondale Heights||4||h||Jellis||2016-09-03||10...</td>\n",
       "    </tr>\n",
       "    <tr>\n",
       "      <th>25</th>\n",
       "      <td>Balwyn North</td>\n",
       "      <td>4</td>\n",
       "      <td>u</td>\n",
       "      <td>hockingstuart</td>\n",
       "      <td>2016-09-03</td>\n",
       "      <td>9.200</td>\n",
       "      <td>3104.000</td>\n",
       "      <td>NaN</td>\n",
       "      <td>NaN</td>\n",
       "      <td>NaN</td>\n",
       "      <td>NaN</td>\n",
       "      <td>NaN</td>\n",
       "      <td>NaN</td>\n",
       "      <td>Southern Metropolitan</td>\n",
       "      <td>7809</td>\n",
       "      <td>1450000</td>\n",
       "      <td>Balwyn North||4||u||hockingstuart||2016-09-03|...</td>\n",
       "    </tr>\n",
       "    <tr>\n",
       "      <th>26</th>\n",
       "      <td>Balwyn North</td>\n",
       "      <td>2</td>\n",
       "      <td>h</td>\n",
       "      <td>Fletchers</td>\n",
       "      <td>2016-09-03</td>\n",
       "      <td>9.200</td>\n",
       "      <td>3104.000</td>\n",
       "      <td>NaN</td>\n",
       "      <td>NaN</td>\n",
       "      <td>NaN</td>\n",
       "      <td>NaN</td>\n",
       "      <td>NaN</td>\n",
       "      <td>NaN</td>\n",
       "      <td>Southern Metropolitan</td>\n",
       "      <td>7809</td>\n",
       "      <td>1305000</td>\n",
       "      <td>Balwyn North||2||h||Fletchers||2016-09-03||9.2...</td>\n",
       "    </tr>\n",
       "    <tr>\n",
       "      <th>...</th>\n",
       "      <td>...</td>\n",
       "      <td>...</td>\n",
       "      <td>...</td>\n",
       "      <td>...</td>\n",
       "      <td>...</td>\n",
       "      <td>...</td>\n",
       "      <td>...</td>\n",
       "      <td>...</td>\n",
       "      <td>...</td>\n",
       "      <td>...</td>\n",
       "      <td>...</td>\n",
       "      <td>...</td>\n",
       "      <td>...</td>\n",
       "      <td>...</td>\n",
       "      <td>...</td>\n",
       "      <td>...</td>\n",
       "      <td>...</td>\n",
       "    </tr>\n",
       "    <tr>\n",
       "      <th>27088</th>\n",
       "      <td>Footscray</td>\n",
       "      <td>2</td>\n",
       "      <td>u</td>\n",
       "      <td>McGrath</td>\n",
       "      <td>2017-09-30</td>\n",
       "      <td>5.100</td>\n",
       "      <td>3011.000</td>\n",
       "      <td>NaN</td>\n",
       "      <td>NaN</td>\n",
       "      <td>NaN</td>\n",
       "      <td>NaN</td>\n",
       "      <td>NaN</td>\n",
       "      <td>NaN</td>\n",
       "      <td>Western Metropolitan</td>\n",
       "      <td>7570</td>\n",
       "      <td>455500</td>\n",
       "      <td>Footscray||2||u||McGrath||2017-09-30||5.1||301...</td>\n",
       "    </tr>\n",
       "    <tr>\n",
       "      <th>27089</th>\n",
       "      <td>Forest Hill</td>\n",
       "      <td>2</td>\n",
       "      <td>h</td>\n",
       "      <td>Fletchers</td>\n",
       "      <td>2017-09-30</td>\n",
       "      <td>15.400</td>\n",
       "      <td>3131.000</td>\n",
       "      <td>NaN</td>\n",
       "      <td>NaN</td>\n",
       "      <td>NaN</td>\n",
       "      <td>NaN</td>\n",
       "      <td>NaN</td>\n",
       "      <td>NaN</td>\n",
       "      <td>Eastern Metropolitan</td>\n",
       "      <td>4385</td>\n",
       "      <td>762000</td>\n",
       "      <td>Forest Hill||2||h||Fletchers||2017-09-30||15.4...</td>\n",
       "    </tr>\n",
       "    <tr>\n",
       "      <th>27090</th>\n",
       "      <td>Glen Waverley</td>\n",
       "      <td>3</td>\n",
       "      <td>u</td>\n",
       "      <td>Ray</td>\n",
       "      <td>2017-09-30</td>\n",
       "      <td>16.700</td>\n",
       "      <td>3150.000</td>\n",
       "      <td>NaN</td>\n",
       "      <td>NaN</td>\n",
       "      <td>NaN</td>\n",
       "      <td>NaN</td>\n",
       "      <td>NaN</td>\n",
       "      <td>NaN</td>\n",
       "      <td>Eastern Metropolitan</td>\n",
       "      <td>15321</td>\n",
       "      <td>1100000</td>\n",
       "      <td>Glen Waverley||3||u||Ray||2017-09-30||16.7||31...</td>\n",
       "    </tr>\n",
       "    <tr>\n",
       "      <th>27093</th>\n",
       "      <td>Kingsbury</td>\n",
       "      <td>2</td>\n",
       "      <td>t</td>\n",
       "      <td>RW</td>\n",
       "      <td>2017-09-30</td>\n",
       "      <td>12.100</td>\n",
       "      <td>3083.000</td>\n",
       "      <td>NaN</td>\n",
       "      <td>NaN</td>\n",
       "      <td>NaN</td>\n",
       "      <td>NaN</td>\n",
       "      <td>NaN</td>\n",
       "      <td>NaN</td>\n",
       "      <td>Northern Metropolitan</td>\n",
       "      <td>1414</td>\n",
       "      <td>512000</td>\n",
       "      <td>Kingsbury||2||t||RW||2017-09-30||12.1||3083.0|...</td>\n",
       "    </tr>\n",
       "    <tr>\n",
       "      <th>27095</th>\n",
       "      <td>Mitcham</td>\n",
       "      <td>4</td>\n",
       "      <td>h</td>\n",
       "      <td>Noel</td>\n",
       "      <td>2017-09-30</td>\n",
       "      <td>17.200</td>\n",
       "      <td>3132.000</td>\n",
       "      <td>NaN</td>\n",
       "      <td>NaN</td>\n",
       "      <td>NaN</td>\n",
       "      <td>NaN</td>\n",
       "      <td>NaN</td>\n",
       "      <td>NaN</td>\n",
       "      <td>Eastern Metropolitan</td>\n",
       "      <td>6871</td>\n",
       "      <td>800000</td>\n",
       "      <td>Mitcham||4||h||Noel||2017-09-30||17.2||3132.0|...</td>\n",
       "    </tr>\n",
       "  </tbody>\n",
       "</table>\n",
       "<p>6424 rows × 17 columns</p>\n",
       "</div>"
      ],
      "text/plain": [
       "                 Suburb  Rooms Type        SellerG       Date  Distance  \\\n",
       "8          Altona North      4    h  hockingstuart 2016-09-03    11.100   \n",
       "12            Ashburton      2    h       Marshall 2016-09-03    11.000   \n",
       "14     Avondale Heights      4    h         Jellis 2016-09-03    10.500   \n",
       "25         Balwyn North      4    u  hockingstuart 2016-09-03     9.200   \n",
       "26         Balwyn North      2    h      Fletchers 2016-09-03     9.200   \n",
       "...                 ...    ...  ...            ...        ...       ...   \n",
       "27088         Footscray      2    u        McGrath 2017-09-30     5.100   \n",
       "27089       Forest Hill      2    h      Fletchers 2017-09-30    15.400   \n",
       "27090     Glen Waverley      3    u            Ray 2017-09-30    16.700   \n",
       "27093         Kingsbury      2    t             RW 2017-09-30    12.100   \n",
       "27095           Mitcham      4    h           Noel 2017-09-30    17.200   \n",
       "\n",
       "       Postcode  Bedroom  Bathroom  Car  Landsize  BuildingArea  YearBuilt  \\\n",
       "8      3025.000      NaN       NaN  NaN       NaN           NaN        NaN   \n",
       "12     3147.000      NaN       NaN  NaN       NaN           NaN        NaN   \n",
       "14     3034.000      NaN       NaN  NaN       NaN           NaN        NaN   \n",
       "25     3104.000      NaN       NaN  NaN       NaN           NaN        NaN   \n",
       "26     3104.000      NaN       NaN  NaN       NaN           NaN        NaN   \n",
       "...         ...      ...       ...  ...       ...           ...        ...   \n",
       "27088  3011.000      NaN       NaN  NaN       NaN           NaN        NaN   \n",
       "27089  3131.000      NaN       NaN  NaN       NaN           NaN        NaN   \n",
       "27090  3150.000      NaN       NaN  NaN       NaN           NaN        NaN   \n",
       "27093  3083.000      NaN       NaN  NaN       NaN           NaN        NaN   \n",
       "27095  3132.000      NaN       NaN  NaN       NaN           NaN        NaN   \n",
       "\n",
       "                  Regionname  Propertycount    Price  \\\n",
       "8       Western Metropolitan           5132   857500   \n",
       "12     Southern Metropolitan           3052  1820000   \n",
       "14      Western Metropolitan           4502  1310000   \n",
       "25     Southern Metropolitan           7809  1450000   \n",
       "26     Southern Metropolitan           7809  1305000   \n",
       "...                      ...            ...      ...   \n",
       "27088   Western Metropolitan           7570   455500   \n",
       "27089   Eastern Metropolitan           4385   762000   \n",
       "27090   Eastern Metropolitan          15321  1100000   \n",
       "27093  Northern Metropolitan           1414   512000   \n",
       "27095   Eastern Metropolitan           6871   800000   \n",
       "\n",
       "                                               _row_sign  \n",
       "8      Altona North||4||h||hockingstuart||2016-09-03|...  \n",
       "12     Ashburton||2||h||Marshall||2016-09-03||11.0||3...  \n",
       "14     Avondale Heights||4||h||Jellis||2016-09-03||10...  \n",
       "25     Balwyn North||4||u||hockingstuart||2016-09-03|...  \n",
       "26     Balwyn North||2||h||Fletchers||2016-09-03||9.2...  \n",
       "...                                                  ...  \n",
       "27088  Footscray||2||u||McGrath||2017-09-30||5.1||301...  \n",
       "27089  Forest Hill||2||h||Fletchers||2017-09-30||15.4...  \n",
       "27090  Glen Waverley||3||u||Ray||2017-09-30||16.7||31...  \n",
       "27093  Kingsbury||2||t||RW||2017-09-30||12.1||3083.0|...  \n",
       "27095  Mitcham||4||h||Noel||2017-09-30||17.2||3132.0|...  \n",
       "\n",
       "[6424 rows x 17 columns]"
      ]
     },
     "execution_count": 171,
     "metadata": {},
     "output_type": "execute_result"
    }
   ],
   "source": [
    "# extracting all the information of other variable where Bedroom is null\n",
    "df.loc[df['Bedroom'].isnull()]"
   ]
  },
  {
   "cell_type": "code",
   "execution_count": 172,
   "id": "8335a1bb",
   "metadata": {},
   "outputs": [
    {
     "name": "stdout",
     "output_type": "stream",
     "text": [
      "6418\n"
     ]
    }
   ],
   "source": [
    "# Lets do a count of all rows where Bedroom, Bathroom, Car, Landsize, BuildingArea, YearBuilt have NaN values\n",
    "cols = ['Bedroom', 'Bathroom', 'Car', 'Landsize', 'BuildingArea', 'YearBuilt']\n",
    "\n",
    "# Select rows where all these columns are NaN\n",
    "rows_with_all_nan = df.loc[df[cols].isnull().all(axis=1)]\n",
    "\n",
    "# Count rows where all selected columns are NaN\n",
    "count = df[cols].isnull().all(axis=1).sum()\n",
    "print(count)"
   ]
  },
  {
   "cell_type": "markdown",
   "id": "d973debe",
   "metadata": {},
   "source": [
    "* There are 6,418 records where all key property features (Bedroom, Bathroom, Car, Landsize, BuildingArea, YearBuilt) are missing. This indicates a substantial portion of incomplete listings that may need to be removed or handled carefully in analysis."
   ]
  },
  {
   "cell_type": "code",
   "execution_count": 173,
   "id": "bdafca26",
   "metadata": {},
   "outputs": [
    {
     "data": {
      "text/plain": [
       "Suburb     0\n",
       "SellerG    0\n",
       "dtype: int64"
      ]
     },
     "execution_count": 173,
     "metadata": {},
     "output_type": "execute_result"
    }
   ],
   "source": [
    "# Suburb and seller information for rows where all key features are missing\n",
    "nan_missing = df.loc[df[cols].isnull().all(axis=1), ['Suburb', 'SellerG']]\n",
    "nan_missing.isnull().sum()"
   ]
  },
  {
   "cell_type": "markdown",
   "id": "fb1a3927",
   "metadata": {},
   "source": [
    "* All rows where key features (Bedroom, Bathroom, Car, Landsize, BuildingArea, YearBuilt) are missing still have Suburb and SellerG filled, showing that some basic information is available even though most property details are missing."
   ]
  },
  {
   "cell_type": "markdown",
   "id": "2191f762",
   "metadata": {},
   "source": [
    "* I will drop all rows where Bedroom, Bathroom, Car, Landsize, BuildingArea, and YearBuilt have missing values. Its okay to do so because these rows lack key property information needed for analysis."
   ]
  },
  {
   "cell_type": "code",
   "execution_count": 174,
   "id": "99f529a9",
   "metadata": {},
   "outputs": [],
   "source": [
    "cols = ['Bedroom', 'Bathroom', 'Car', 'Landsize', 'BuildingArea', 'YearBuilt']\n",
    "\n",
    "# We get the index of the rows where all these columns are NaN\n",
    "rows_to_drop = df.loc[df[cols].isnull().all(axis=1)].index\n",
    "\n",
    "# Drop those rows\n",
    "df.drop(rows_to_drop, inplace=True)\n",
    "\n",
    "# Reset the index\n",
    "df.reset_index(drop=True, inplace=True)"
   ]
  },
  {
   "cell_type": "code",
   "execution_count": 177,
   "id": "9641c799",
   "metadata": {},
   "outputs": [
    {
     "data": {
      "text/html": [
       "<div>\n",
       "<style scoped>\n",
       "    .dataframe tbody tr th:only-of-type {\n",
       "        vertical-align: middle;\n",
       "    }\n",
       "\n",
       "    .dataframe tbody tr th {\n",
       "        vertical-align: top;\n",
       "    }\n",
       "\n",
       "    .dataframe thead th {\n",
       "        text-align: right;\n",
       "    }\n",
       "</style>\n",
       "<table border=\"1\" class=\"dataframe\">\n",
       "  <thead>\n",
       "    <tr style=\"text-align: right;\">\n",
       "      <th></th>\n",
       "      <th>Count_missing</th>\n",
       "      <th>Percentage_missing</th>\n",
       "    </tr>\n",
       "  </thead>\n",
       "  <tbody>\n",
       "    <tr>\n",
       "      <th>Bedroom</th>\n",
       "      <td>6</td>\n",
       "      <td>0.029</td>\n",
       "    </tr>\n",
       "    <tr>\n",
       "      <th>Bathroom</th>\n",
       "      <td>12</td>\n",
       "      <td>0.058</td>\n",
       "    </tr>\n",
       "    <tr>\n",
       "      <th>Car</th>\n",
       "      <td>387</td>\n",
       "      <td>1.871</td>\n",
       "    </tr>\n",
       "    <tr>\n",
       "      <th>Landsize</th>\n",
       "      <td>2811</td>\n",
       "      <td>13.590</td>\n",
       "    </tr>\n",
       "    <tr>\n",
       "      <th>BuildingArea</th>\n",
       "      <td>10155</td>\n",
       "      <td>49.096</td>\n",
       "    </tr>\n",
       "    <tr>\n",
       "      <th>YearBuilt</th>\n",
       "      <td>8699</td>\n",
       "      <td>42.057</td>\n",
       "    </tr>\n",
       "  </tbody>\n",
       "</table>\n",
       "</div>"
      ],
      "text/plain": [
       "              Count_missing  Percentage_missing\n",
       "Bedroom                   6               0.029\n",
       "Bathroom                 12               0.058\n",
       "Car                     387               1.871\n",
       "Landsize               2811              13.590\n",
       "BuildingArea          10155              49.096\n",
       "YearBuilt              8699              42.057"
      ]
     },
     "execution_count": 177,
     "metadata": {},
     "output_type": "execute_result"
    }
   ],
   "source": [
    "# Lets check again for the count and the percentage of missing values in each column\n",
    "pd.DataFrame({'Count_missing':df.isnull().sum()[df.isnull().sum()>0],'Percentage_missing':(df.isnull().sum()[df.isnull().sum()>0]/df.shape[0])*100})"
   ]
  },
  {
   "cell_type": "code",
   "execution_count": 176,
   "id": "b50601fe",
   "metadata": {},
   "outputs": [
    {
     "name": "stdout",
     "output_type": "stream",
     "text": [
      "<class 'pandas.core.frame.DataFrame'>\n",
      "RangeIndex: 20684 entries, 0 to 20683\n",
      "Data columns (total 17 columns):\n",
      " #   Column         Non-Null Count  Dtype         \n",
      "---  ------         --------------  -----         \n",
      " 0   Suburb         20684 non-null  object        \n",
      " 1   Rooms          20684 non-null  int64         \n",
      " 2   Type           20684 non-null  object        \n",
      " 3   SellerG        20684 non-null  object        \n",
      " 4   Date           20684 non-null  datetime64[ns]\n",
      " 5   Distance       20684 non-null  float64       \n",
      " 6   Postcode       20684 non-null  float64       \n",
      " 7   Bedroom        20678 non-null  float64       \n",
      " 8   Bathroom       20672 non-null  float64       \n",
      " 9   Car            20297 non-null  float64       \n",
      " 10  Landsize       17873 non-null  float64       \n",
      " 11  BuildingArea   10529 non-null  float64       \n",
      " 12  YearBuilt      11985 non-null  float64       \n",
      " 13  Regionname     20684 non-null  object        \n",
      " 14  Propertycount  20684 non-null  int64         \n",
      " 15  Price          20684 non-null  int64         \n",
      " 16  _row_sign      20684 non-null  object        \n",
      "dtypes: datetime64[ns](1), float64(8), int64(3), object(5)\n",
      "memory usage: 2.7+ MB\n"
     ]
    }
   ],
   "source": [
    "df.info()"
   ]
  },
  {
   "cell_type": "code",
   "execution_count": null,
   "id": "3e06a48d",
   "metadata": {},
   "outputs": [],
   "source": []
  }
 ],
 "metadata": {
  "kernelspec": {
   "display_name": "Python 3",
   "language": "python",
   "name": "python3"
  },
  "language_info": {
   "codemirror_mode": {
    "name": "ipython",
    "version": 3
   },
   "file_extension": ".py",
   "mimetype": "text/x-python",
   "name": "python",
   "nbconvert_exporter": "python",
   "pygments_lexer": "ipython3",
   "version": "3.13.0"
  }
 },
 "nbformat": 4,
 "nbformat_minor": 5
}
